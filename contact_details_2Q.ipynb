{
 "cells": [
  {
   "cell_type": "code",
   "execution_count": 37,
   "id": "99a368fd",
   "metadata": {},
   "outputs": [],
   "source": [
    "import pandas as pd\n"
   ]
  },
  {
   "cell_type": "code",
   "execution_count": 38,
   "id": "fc3b6c1d",
   "metadata": {},
   "outputs": [],
   "source": [
    "df = pd.read_csv(r\"C:\\Users\\Hasini\\Downloads\\us_customer_data_.csv\")"
   ]
  },
  {
   "cell_type": "code",
   "execution_count": 39,
   "id": "ba0d37e0",
   "metadata": {},
   "outputs": [
    {
     "name": "stdout",
     "output_type": "stream",
     "text": [
      "<class 'pandas.core.frame.DataFrame'>\n",
      "RangeIndex: 1000 entries, 0 to 999\n",
      "Data columns (total 7 columns):\n",
      " #   Column             Non-Null Count  Dtype \n",
      "---  ------             --------------  ----- \n",
      " 0   customer_id        1000 non-null   int64 \n",
      " 1   name               1000 non-null   object\n",
      " 2   email              950 non-null    object\n",
      " 3   phone              984 non-null    object\n",
      " 4   address            1000 non-null   object\n",
      " 5   registration_date  1000 non-null   object\n",
      " 6   loyalty_status     1000 non-null   object\n",
      "dtypes: int64(1), object(6)\n",
      "memory usage: 54.8+ KB\n"
     ]
    }
   ],
   "source": [
    "df.info()\n"
   ]
  },
  {
   "cell_type": "code",
   "execution_count": 40,
   "id": "8557dbc1",
   "metadata": {},
   "outputs": [
    {
     "data": {
      "text/plain": [
       "customer_id           0\n",
       "name                  0\n",
       "email                50\n",
       "phone                16\n",
       "address               0\n",
       "registration_date     0\n",
       "loyalty_status        0\n",
       "dtype: int64"
      ]
     },
     "execution_count": 40,
     "metadata": {},
     "output_type": "execute_result"
    }
   ],
   "source": [
    "df.isnull().sum()"
   ]
  },
  {
   "cell_type": "code",
   "execution_count": 41,
   "id": "197bb611",
   "metadata": {},
   "outputs": [],
   "source": [
    "df = df.drop_duplicates(subset='customer_id', keep='first')"
   ]
  },
  {
   "cell_type": "code",
   "execution_count": 42,
   "id": "7a790cba",
   "metadata": {},
   "outputs": [],
   "source": [
    "# 2. Clean the name column\n",
    "df['name'] = df['name'].str.strip().str.title()"
   ]
  },
  {
   "cell_type": "code",
   "execution_count": 43,
   "id": "11309654",
   "metadata": {},
   "outputs": [],
   "source": [
    "df['email'] = df.apply(\n",
    "    lambda row: f\"{row['name'].replace(' ', '').lower()}@company.com\"\n",
    "    if pd.isna(row['email']) else row['email'].strip().lower(),\n",
    "    axis=1\n",
    ")\n"
   ]
  },
  {
   "cell_type": "code",
   "execution_count": 44,
   "id": "76365127",
   "metadata": {},
   "outputs": [
    {
     "data": {
      "text/plain": [
       "customer_id           0\n",
       "name                  0\n",
       "email                 0\n",
       "phone                16\n",
       "address               0\n",
       "registration_date     0\n",
       "loyalty_status        0\n",
       "dtype: int64"
      ]
     },
     "execution_count": 44,
     "metadata": {},
     "output_type": "execute_result"
    }
   ],
   "source": [
    "df.isnull().sum()"
   ]
  },
  {
   "cell_type": "code",
   "execution_count": 45,
   "id": "a89238ed",
   "metadata": {},
   "outputs": [],
   "source": [
    "df['phone'] = df['phone'].fillna('0000000000')  # Fill true nulls\n",
    "df['phone'] = df['phone'].astype(str).str.replace(r'\\D', '', regex=True)\n"
   ]
  },
  {
   "cell_type": "code",
   "execution_count": 46,
   "id": "411e755b",
   "metadata": {},
   "outputs": [],
   "source": [
    "df['phone'] = df['phone'].apply(\n",
    "    lambda x: f\"+1-{x[:3]}-{x[3:6]}-{x[6:10]}\" if len(x) == 10 else \"+1-000-000-0000\"\n",
    ")\n"
   ]
  },
  {
   "cell_type": "code",
   "execution_count": 47,
   "id": "d1d34ae6",
   "metadata": {},
   "outputs": [
    {
     "data": {
      "text/html": [
       "<div>\n",
       "<style scoped>\n",
       "    .dataframe tbody tr th:only-of-type {\n",
       "        vertical-align: middle;\n",
       "    }\n",
       "\n",
       "    .dataframe tbody tr th {\n",
       "        vertical-align: top;\n",
       "    }\n",
       "\n",
       "    .dataframe thead th {\n",
       "        text-align: right;\n",
       "    }\n",
       "</style>\n",
       "<table border=\"1\" class=\"dataframe\">\n",
       "  <thead>\n",
       "    <tr style=\"text-align: right;\">\n",
       "      <th></th>\n",
       "      <th>name</th>\n",
       "      <th>email</th>\n",
       "      <th>phone</th>\n",
       "    </tr>\n",
       "  </thead>\n",
       "  <tbody>\n",
       "    <tr>\n",
       "      <th>0</th>\n",
       "      <td>Michelle Kidd</td>\n",
       "      <td>vayala@example.net</td>\n",
       "      <td>+1-619-723-4258</td>\n",
       "    </tr>\n",
       "    <tr>\n",
       "      <th>1</th>\n",
       "      <td>Brad Newton</td>\n",
       "      <td>taylorcatherine@example.net</td>\n",
       "      <td>+1-537-674-1158</td>\n",
       "    </tr>\n",
       "    <tr>\n",
       "      <th>2</th>\n",
       "      <td>Larry Torres</td>\n",
       "      <td>dsanchez@example.net</td>\n",
       "      <td>+1-810-256-4505</td>\n",
       "    </tr>\n",
       "    <tr>\n",
       "      <th>3</th>\n",
       "      <td>Kimberly Price</td>\n",
       "      <td>jessicaknight@example.com</td>\n",
       "      <td>+1-423-222-9779</td>\n",
       "    </tr>\n",
       "    <tr>\n",
       "      <th>4</th>\n",
       "      <td>Matthew Phillips</td>\n",
       "      <td>qwilliams@example.com</td>\n",
       "      <td>+1-220-763-3522</td>\n",
       "    </tr>\n",
       "  </tbody>\n",
       "</table>\n",
       "</div>"
      ],
      "text/plain": [
       "               name                        email            phone\n",
       "0     Michelle Kidd           vayala@example.net  +1-619-723-4258\n",
       "1       Brad Newton  taylorcatherine@example.net  +1-537-674-1158\n",
       "2      Larry Torres         dsanchez@example.net  +1-810-256-4505\n",
       "3    Kimberly Price    jessicaknight@example.com  +1-423-222-9779\n",
       "4  Matthew Phillips        qwilliams@example.com  +1-220-763-3522"
      ]
     },
     "execution_count": 47,
     "metadata": {},
     "output_type": "execute_result"
    }
   ],
   "source": [
    "df[['name', 'email', 'phone']].head()\n"
   ]
  },
  {
   "cell_type": "code",
   "execution_count": 48,
   "id": "cdf595f5",
   "metadata": {},
   "outputs": [],
   "source": [
    "df.to_csv(\"cleaned_customer_contacts_2Q.csv\", index=False)\n"
   ]
  }
 ],
 "metadata": {
  "kernelspec": {
   "display_name": "myenv",
   "language": "python",
   "name": "python3"
  },
  "language_info": {
   "codemirror_mode": {
    "name": "ipython",
    "version": 3
   },
   "file_extension": ".py",
   "mimetype": "text/x-python",
   "name": "python",
   "nbconvert_exporter": "python",
   "pygments_lexer": "ipython3",
   "version": "3.10.11"
  }
 },
 "nbformat": 4,
 "nbformat_minor": 5
}
