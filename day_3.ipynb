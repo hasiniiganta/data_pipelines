{
 "cells": [
  {
   "cell_type": "code",
   "execution_count": null,
   "id": "b141bbb4",
   "metadata": {},
   "outputs": [],
   "source": [
    "import pandas as pd"
   ]
  },
  {
   "cell_type": "code",
   "execution_count": 2,
   "id": "362c2dcd",
   "metadata": {},
   "outputs": [
    {
     "name": "stdout",
     "output_type": "stream",
     "text": [
      "   CustomerID             Name Address                     Email       Phone\n",
      "0         101     hasini ganta      NY     hasiniganta@gmail.com  1234567890\n",
      "1         102  deepthi belpuri      CA  deepthibelpuri@yahoo.com  2345678901\n",
      "2         103       keerthi pk      TX     keerthipk@outlook.com  3456789012\n",
      "3         104       mani reddy      FL         manireddy@msn.com  4567890123\n",
      "4         105     vanilla chow      CA     vanillachow@gmail.com  5678901234\n",
      "5         106     poojitha poo      NV     poojithapoo@gmail.com  6789012345\n"
     ]
    }
   ],
   "source": [
    "# Step 1: Create base customer data\n",
    "df_base = pd.DataFrame({\n",
    "    'CustomerID': [101, 102, 103, 104, 105, 106],\n",
    "    'Name': ['hasini ganta', 'deepthi belpuri', 'keerthi pk', 'mani reddy', 'vanilla chow', 'poojitha poo'],\n",
    "    'Address': ['NY', 'CA', 'TX', 'FL', 'CA', 'NV'],\n",
    "    'Email': ['hasiniganta@gmail.com', 'deepthibelpuri@yahoo.com', 'keerthipk@outlook.com', 'manireddy@msn.com', 'vanillachow@gmail.com', 'poojithapoo@gmail.com'],\n",
    "    'Phone': ['1234567890', '2345678901', '3456789012', '4567890123', '5678901234', '6789012345']\n",
    "})\n",
    "\n",
    "# View the DataFrame\n",
    "print(df_base)\n"
   ]
  },
  {
   "cell_type": "code",
   "execution_count": null,
   "id": "eb29a65d",
   "metadata": {},
   "outputs": [],
   "source": [
    "import pandas as pd\n",
    "from sqlalchemy import create_engine\n",
    "from sqlalchemy.engine import URL\n",
    "import getpass \n",
    "# Step 1: Define connection info\n",
    "connection_url = URL.create(\n",
    "    \"mssql+pyodbc\",\n",
    "    username=\"sa\",\n",
    "    password=\"*******\",\n",
    "    host=\"DESKTOP-1M0C5L8\\\\SQLEXPRESS01\",\n",
    "    database=\"SCD_DEMO\",\n",
    "    query={\"driver\": \"ODBC Driver 17 for SQL Server\"}\n",
    ")\n",
    "\n",
    "# Step 2: Create engine\n",
    "engine = create_engine(connection_url)"
   ]
  },
  {
   "cell_type": "code",
   "execution_count": 9,
   "id": "291b92b9",
   "metadata": {},
   "outputs": [
    {
     "data": {
      "text/plain": [
       "6"
      ]
     },
     "execution_count": 9,
     "metadata": {},
     "output_type": "execute_result"
    }
   ],
   "source": [
    "df_base.to_sql('BASE_TABLE',con=engine,if_exists='replace',index=False)"
   ]
  },
  {
   "cell_type": "code",
   "execution_count": null,
   "id": "8388fc6d",
   "metadata": {},
   "outputs": [],
   "source": [
    "# scd type-1 overwrite\n",
    "# Update the record for CustomerID '101'\n",
    "from sqlalchemy import text \n",
    "q1=text('''update BASE_TABLE\n",
    "set Address='LA',\n",
    "email='hahahasini@gmail.com'\n",
    "where CustomerID='101';\n",
    "''')\n",
    "with engine.connect() as conn:\n",
    "    conn.execute(q1)\n",
    "    conn.commit()\n",
    " "
   ]
  },
  {
   "cell_type": "code",
   "execution_count": 14,
   "id": "875845e0",
   "metadata": {},
   "outputs": [
    {
     "name": "stdout",
     "output_type": "stream",
     "text": [
      "   CustomerID          Name Address             Email       Phone  StartDate  \\\n",
      "0         201   siri kumari      AP    siri@gmail.com  9000000001 2024-01-01   \n",
      "1         202     bhavya ch      KA  bhavya@gmail.com  9000000002 2024-01-01   \n",
      "2         203    nithin sai      TS  nithin@gmail.com  9000000003 2024-01-01   \n",
      "3         204  rahul dravid      TN   rahul@gmail.com  9000000004 2024-01-01   \n",
      "\n",
      "  EndDate  IsCurrent  \n",
      "0    None          1  \n",
      "1    None          1  \n",
      "2    None          1  \n",
      "3    None          1  \n"
     ]
    }
   ],
   "source": [
    "import pandas as pd\n",
    "\n",
    "df_base2 = pd.DataFrame({\n",
    "    'CustomerID': [201, 202, 203, 204],\n",
    "    'Name': ['siri kumari', 'bhavya ch', 'nithin sai', 'rahul dravid'],\n",
    "    'Address': ['AP', 'KA', 'TS', 'TN'],\n",
    "    'Email': ['siri@gmail.com', 'bhavya@gmail.com', 'nithin@gmail.com', 'rahul@gmail.com'],\n",
    "    'Phone': ['9000000001', '9000000002', '9000000003', '9000000004'],\n",
    "    'StartDate': [pd.to_datetime('2024-01-01')] * 4,\n",
    "    'EndDate': [None] * 4,\n",
    "    'IsCurrent': [1] * 4\n",
    "})\n",
    "\n",
    "print(df_base2)\n"
   ]
  },
  {
   "cell_type": "code",
   "execution_count": 15,
   "id": "9628c188",
   "metadata": {},
   "outputs": [
    {
     "data": {
      "text/plain": [
       "4"
      ]
     },
     "execution_count": 15,
     "metadata": {},
     "output_type": "execute_result"
    }
   ],
   "source": [
    "# Upload base data to SQL Server\n",
    "df_base2.to_sql('BASE_TABLE2', con=engine, if_exists='replace', index=False)"
   ]
  },
  {
   "cell_type": "code",
   "execution_count": 16,
   "id": "8b599c90",
   "metadata": {},
   "outputs": [
    {
     "name": "stdout",
     "output_type": "stream",
     "text": [
      "   CustomerID          Name Address             Email       Phone  StartDate  \\\n",
      "0         202     bhavya ch      MH  bhavya@gmail.com  9111111111 2025-06-22   \n",
      "1         204  rahul dravid      KL   rahul@gmail.com  9222222222 2025-06-22   \n",
      "\n",
      "  EndDate  IsCurrent  \n",
      "0    None          1  \n",
      "1    None          1  \n"
     ]
    }
   ],
   "source": [
    "# Simulated incoming data (a few updates for CustomerID 202 and 204)\n",
    "df_changes = pd.DataFrame({\n",
    "    'CustomerID': [202, 204],\n",
    "    'Name': ['bhavya ch', 'rahul dravid'],\n",
    "    'Address': ['MH', 'KL'],  # changed from KA and TN\n",
    "    'Email': ['bhavya@gmail.com', 'rahul@gmail.com'],  # same\n",
    "    'Phone': ['9111111111', '9222222222'],  # changed\n",
    "    'StartDate': [pd.to_datetime('2025-06-22')] * 2,  # today\n",
    "    'EndDate': [None] * 2,\n",
    "    'IsCurrent': [1] * 2\n",
    "})\n",
    "\n",
    "print(df_changes)\n"
   ]
  },
  {
   "cell_type": "code",
   "execution_count": 17,
   "id": "f41721a1",
   "metadata": {},
   "outputs": [],
   "source": [
    "from sqlalchemy import text\n",
    "from datetime import datetime\n",
    "\n",
    "today = datetime.today().strftime('%Y-%m-%d')\n",
    "\n",
    "with engine.begin() as conn:\n",
    "    for _, row in df_changes.iterrows():\n",
    "        # Step 1: Expire the old row\n",
    "        conn.execute(text('''\n",
    "            UPDATE BASE_TABLE2\n",
    "            SET EndDate = :today, IsCurrent = 0\n",
    "            WHERE CustomerID = :cid AND IsCurrent = 1\n",
    "        '''), {'today': today, 'cid': row['CustomerID']})\n",
    "\n",
    "        # Step 2: Insert new version\n",
    "        conn.execute(text('''\n",
    "            INSERT INTO BASE_TABLE2 (\n",
    "                CustomerID, Name, Address, Email, Phone, StartDate, EndDate, IsCurrent\n",
    "            ) VALUES (\n",
    "                :cid, :name, :addr, :email, :phone, :start, NULL, 1\n",
    "            )\n",
    "        '''), {\n",
    "            'cid': row['CustomerID'],\n",
    "            'name': row['Name'],\n",
    "            'addr': row['Address'],\n",
    "            'email': row['Email'],\n",
    "            'phone': row['Phone'],\n",
    "            'start': today\n",
    "        })\n"
   ]
  },
  {
   "cell_type": "code",
   "execution_count": 18,
   "id": "5026eb5f",
   "metadata": {},
   "outputs": [
    {
     "name": "stdout",
     "output_type": "stream",
     "text": [
      "   CustomerID          Name Address             Email       Phone  StartDate  \\\n",
      "0         201   siri kumari      AP    siri@gmail.com  9000000001 2024-01-01   \n",
      "1         202     bhavya ch      KA  bhavya@gmail.com  9000000002 2024-01-01   \n",
      "2         203    nithin sai      TS  nithin@gmail.com  9000000003 2024-01-01   \n",
      "3         204  rahul dravid      TN   rahul@gmail.com  9000000004 2024-01-01   \n",
      "4         202     bhavya ch      MH  bhavya@gmail.com  9111111111 2025-06-23   \n",
      "5         204  rahul dravid      KL   rahul@gmail.com  9222222222 2025-06-23   \n",
      "\n",
      "      EndDate  IsCurrent  \n",
      "0        None          1  \n",
      "1  2025-06-23          0  \n",
      "2        None          1  \n",
      "3  2025-06-23          0  \n",
      "4        None          1  \n",
      "5        None          1  \n",
      "Updated BASE_TABLE2:\n"
     ]
    }
   ],
   "source": [
    "df_updated = pd.read_sql(\"SELECT * FROM BASE_TABLE2\", con=engine)\n",
    "print(df_updated)\n",
    "# Step 3: Verify the updates\n",
    "print(\"Updated BASE_TABLE2:\")   \n"
   ]
  },
  {
   "cell_type": "code",
   "execution_count": 20,
   "id": "a8c13c1a",
   "metadata": {},
   "outputs": [
    {
     "name": "stdout",
     "output_type": "stream",
     "text": [
      "   CustomerID          Name Address             Email       Phone  StartDate  \\\n",
      "0         201   siri kumari      AP    siri@gmail.com  9000000001 2024-01-01   \n",
      "1         202     bhavya ch      KA  bhavya@gmail.com  9000000002 2024-01-01   \n",
      "2         203    nithin sai      TS  nithin@gmail.com  9000000003 2024-01-01   \n",
      "3         204  rahul dravid      TN   rahul@gmail.com  9000000004 2024-01-01   \n",
      "4         202     bhavya ch      MH  bhavya@gmail.com  9111111111 2025-06-23   \n",
      "5         204  rahul dravid      KL   rahul@gmail.com  9222222222 2025-06-23   \n",
      "\n",
      "      EndDate  IsCurrent  \n",
      "0        None          1  \n",
      "1  2025-06-23          0  \n",
      "2        None          1  \n",
      "3  2025-06-23          0  \n",
      "4        None          1  \n",
      "5        None          1  \n"
     ]
    }
   ],
   "source": [
    "import pandas as pd\n",
    "\n",
    "df_base3 = pd.DataFrame({\n",
    "    'CustomerID': [201, 202, 203, 204, 202, 204],\n",
    "    'Name': ['siri kumari', 'bhavya ch', 'nithin sai', 'rahul dravid', 'bhavya ch', 'rahul dravid'],\n",
    "    'Address': ['AP', 'KA', 'TS', 'TN', 'MH', 'KL'],\n",
    "    'Email': ['siri@gmail.com', 'bhavya@gmail.com', 'nithin@gmail.com', 'rahul@gmail.com',\n",
    "              'bhavya@gmail.com', 'rahul@gmail.com'],\n",
    "    'Phone': ['9000000001', '9000000002', '9000000003', '9000000004', '9111111111', '9222222222'],\n",
    "    'StartDate': pd.to_datetime(['2024-01-01', '2024-01-01', '2024-01-01', '2024-01-01',\n",
    "                                 '2025-06-23', '2025-06-23']),\n",
    "    'EndDate': [None, '2025-06-23', None, '2025-06-23', None, None],\n",
    "    'IsCurrent': [1, 0, 1, 0, 1, 1]\n",
    "})\n",
    "\n",
    "print(df_base3)\n"
   ]
  },
  {
   "cell_type": "code",
   "execution_count": 21,
   "id": "a2858dc3",
   "metadata": {},
   "outputs": [
    {
     "data": {
      "text/plain": [
       "6"
      ]
     },
     "execution_count": 21,
     "metadata": {},
     "output_type": "execute_result"
    }
   ],
   "source": [
    "df_base3.to_sql(\"BASE_TABLE3\", con=engine, if_exists=\"replace\", index=False)\n"
   ]
  },
  {
   "cell_type": "code",
   "execution_count": 24,
   "id": "b21234d1",
   "metadata": {},
   "outputs": [],
   "source": [
    "from sqlalchemy import text\n",
    "\n",
    "with engine.begin() as conn:\n",
    "    conn.execute(text('''\n",
    "        ALTER TABLE BASE_TABLE3\n",
    "        ADD Previous_Address VARCHAR(100);\n",
    "    '''))\n"
   ]
  },
  {
   "cell_type": "code",
   "execution_count": 25,
   "id": "076e8b02",
   "metadata": {},
   "outputs": [],
   "source": [
    "df_changes3 = pd.DataFrame({\n",
    "    'CustomerID': [203],\n",
    "    'Address': ['GJ']  # or Email \n",
    "})  "
   ]
  },
  {
   "cell_type": "code",
   "execution_count": 27,
   "id": "1197d4b0",
   "metadata": {},
   "outputs": [],
   "source": [
    "import sqlalchemy\n",
    "from sqlalchemy import text\n",
    "with engine.begin() as conn:\n",
    "    for _, row in df_changes3.iterrows():\n",
    "        conn.execute(text('''\n",
    "            UPDATE BASE_TABLE3\n",
    "            SET \n",
    "                Previous_Address = Address,\n",
    "                Address = :new_addr\n",
    "            WHERE CustomerID = :cid AND IsCurrent = 1\n",
    "        '''), {\n",
    "            'new_addr': row['Address'],\n",
    "            'cid': row['CustomerID']\n",
    "        })\n"
   ]
  },
  {
   "cell_type": "code",
   "execution_count": 28,
   "id": "1918953e",
   "metadata": {},
   "outputs": [
    {
     "name": "stdout",
     "output_type": "stream",
     "text": [
      "   CustomerID          Name Address             Email       Phone  StartDate  \\\n",
      "0         201   siri kumari      AP    siri@gmail.com  9000000001 2024-01-01   \n",
      "1         202     bhavya ch      KA  bhavya@gmail.com  9000000002 2024-01-01   \n",
      "2         203    nithin sai      GJ  nithin@gmail.com  9000000003 2024-01-01   \n",
      "3         204  rahul dravid      TN   rahul@gmail.com  9000000004 2024-01-01   \n",
      "4         202     bhavya ch      MH  bhavya@gmail.com  9111111111 2025-06-23   \n",
      "5         204  rahul dravid      KL   rahul@gmail.com  9222222222 2025-06-23   \n",
      "\n",
      "      EndDate  IsCurrent Previous_Address  \n",
      "0        None          1             None  \n",
      "1  2025-06-23          0             None  \n",
      "2        None          1               TS  \n",
      "3  2025-06-23          0             None  \n",
      "4        None          1             None  \n",
      "5        None          1             None  \n"
     ]
    }
   ],
   "source": [
    "df_type3 = pd.read_sql(\"SELECT * FROM BASE_TABLE3\", con=engine)\n",
    "print(df_type3)"
   ]
  },
  {
   "cell_type": "code",
   "execution_count": 29,
   "id": "c96c381d",
   "metadata": {},
   "outputs": [
    {
     "data": {
      "text/plain": [
       "6"
      ]
     },
     "execution_count": 29,
     "metadata": {},
     "output_type": "execute_result"
    }
   ],
   "source": [
    "# create a new dataframe for SCD Type 3,starting fresh again\n",
    "import pandas as pd\n",
    "\n",
    "df_base3 = pd.DataFrame({\n",
    "    'CustomerID': [101, 102, 103, 104, 105, 106],\n",
    "    'Name': ['hasini ganta', 'deepthi belpuri', 'keerthi pk', 'mani reddy', 'vanilla chow', 'poojitha poo'],\n",
    "    'Address': ['LA', 'CA', 'TX', 'FL', 'CA', 'NV'],\n",
    "    'Email': ['hahahasini@gmail.com', 'deepthibelpuri@yahoo.com', 'keerthipk@outlook.com', 'manireddy@msn.com',\n",
    "              'vanillachow@gmail.com', 'poojithapoo@gmail.com'],\n",
    "    'Phone': ['1234567890', '2345678901', '3456789012', '4567890123', '5678901234', '6789012345']\n",
    "})\n",
    "\n",
    "# Load to SQL Server\n",
    "df_base3.to_sql(\"BASE_TABLE_3\", con=engine, if_exists=\"replace\", index=False)\n"
   ]
  },
  {
   "cell_type": "code",
   "execution_count": 31,
   "id": "febfbd12",
   "metadata": {},
   "outputs": [],
   "source": [
    "from sqlalchemy import text\n",
    "\n",
    "with engine.begin() as conn:\n",
    "    conn.execute(text(\"ALTER TABLE BASE_TABLE_3 ADD Previous_Address VARCHAR(100)\"))\n"
   ]
  },
  {
   "cell_type": "code",
   "execution_count": 32,
   "id": "09e3f312",
   "metadata": {},
   "outputs": [],
   "source": [
    "df_changes3 = pd.DataFrame({\n",
    "    'CustomerID': [101],\n",
    "    'Address': ['NY']\n",
    "})\n",
    "with engine.begin() as conn:\n",
    "    for _, row in df_changes3.iterrows():\n",
    "        conn.execute(text('''\n",
    "            UPDATE BASE_TABLE_3\n",
    "            SET \n",
    "                Previous_Address = Address,\n",
    "                Address = :new_addr\n",
    "            WHERE CustomerID = :cid \n",
    "        '''), {\n",
    "            'new_addr': row['Address'],\n",
    "            'cid': row['CustomerID']\n",
    "        }) \n"
   ]
  },
  {
   "cell_type": "code",
   "execution_count": 33,
   "id": "7e4607fb",
   "metadata": {},
   "outputs": [
    {
     "name": "stdout",
     "output_type": "stream",
     "text": [
      "   CustomerID             Name Address                     Email       Phone  \\\n",
      "0         101     hasini ganta      NY      hahahasini@gmail.com  1234567890   \n",
      "1         102  deepthi belpuri      CA  deepthibelpuri@yahoo.com  2345678901   \n",
      "2         103       keerthi pk      TX     keerthipk@outlook.com  3456789012   \n",
      "3         104       mani reddy      FL         manireddy@msn.com  4567890123   \n",
      "4         105     vanilla chow      CA     vanillachow@gmail.com  5678901234   \n",
      "5         106     poojitha poo      NV     poojithapoo@gmail.com  6789012345   \n",
      "\n",
      "  Previous_Address  \n",
      "0               LA  \n",
      "1             None  \n",
      "2             None  \n",
      "3             None  \n",
      "4             None  \n",
      "5             None  \n"
     ]
    }
   ],
   "source": [
    "df_result = pd.read_sql(\"SELECT * FROM BASE_TABLE_3\", con=engine)\n",
    "print(df_result)\n"
   ]
  },
  {
   "cell_type": "code",
   "execution_count": 35,
   "id": "c26fe111",
   "metadata": {},
   "outputs": [],
   "source": [
    "#Add new columns for tracking previous values\n",
    "#add Previous_Email and Previous_Phone:\n",
    "\n",
    "from sqlalchemy import text\n",
    "\n",
    "with engine.begin() as conn:\n",
    "    conn.execute(text(\"ALTER TABLE BASE_TABLE_3 ADD Previous_Email VARCHAR(100)\"))\n",
    "    conn.execute(text(\"ALTER TABLE BASE_TABLE_3 ADD Previous_Phone VARCHAR(100)\"))\n",
    "\n",
    "\n"
   ]
  },
  {
   "cell_type": "code",
   "execution_count": 36,
   "id": "1524f994",
   "metadata": {},
   "outputs": [],
   "source": [
    "df_email_change = pd.DataFrame({\n",
    "    'CustomerID': [103],\n",
    "    'Email': ['keerthi123@gmail.com']\n",
    "})\n",
    "\n",
    "df_phone_change = pd.DataFrame({\n",
    "    'CustomerID': [106],\n",
    "    'Phone': ['9876543210']\n",
    "})\n",
    "with engine.begin() as conn:\n",
    "    for _, row in df_email_change.iterrows():\n",
    "        conn.execute(text('''\n",
    "            UPDATE BASE_TABLE_3\n",
    "            SET \n",
    "                Previous_Email = Email,\n",
    "                Email = :new_email\n",
    "            WHERE CustomerID = :cid \n",
    "        '''), {\n",
    "            'new_email': row['Email'],\n",
    "            'cid': row['CustomerID']\n",
    "        })\n",
    "\n",
    "    for _, row in df_phone_change.iterrows():\n",
    "        conn.execute(text('''\n",
    "            UPDATE BASE_TABLE_3\n",
    "            SET \n",
    "                Previous_Phone = Phone,\n",
    "                Phone = :new_phone\n",
    "            WHERE CustomerID = :cid \n",
    "        '''), {\n",
    "            'new_phone': row['Phone'],\n",
    "            'cid': row['CustomerID']\n",
    "        })"
   ]
  },
  {
   "cell_type": "code",
   "execution_count": 37,
   "id": "3274ccfb",
   "metadata": {},
   "outputs": [
    {
     "name": "stdout",
     "output_type": "stream",
     "text": [
      "   CustomerID             Name Address                     Email       Phone  \\\n",
      "0         101     hasini ganta      NY      hahahasini@gmail.com  1234567890   \n",
      "1         102  deepthi belpuri      CA  deepthibelpuri@yahoo.com  2345678901   \n",
      "2         103       keerthi pk      TX      keerthi123@gmail.com  3456789012   \n",
      "3         104       mani reddy      FL         manireddy@msn.com  4567890123   \n",
      "4         105     vanilla chow      CA     vanillachow@gmail.com  5678901234   \n",
      "5         106     poojitha poo      NV     poojithapoo@gmail.com  9876543210   \n",
      "\n",
      "  Previous_Address         Previous_Email Previous_Phone  \n",
      "0               LA                   None           None  \n",
      "1             None                   None           None  \n",
      "2             None  keerthipk@outlook.com           None  \n",
      "3             None                   None           None  \n",
      "4             None                   None           None  \n",
      "5             None                   None     6789012345  \n"
     ]
    }
   ],
   "source": [
    "df_final = pd.read_sql(\"SELECT * FROM BASE_TABLE_3\", con=engine)\n",
    "print(df_final)\n"
   ]
  },
  {
   "cell_type": "code",
   "execution_count": 38,
   "id": "b123e196",
   "metadata": {},
   "outputs": [
    {
     "data": {
      "text/plain": [
       "4"
      ]
     },
     "execution_count": 38,
     "metadata": {},
     "output_type": "execute_result"
    }
   ],
   "source": [
    "#scd type 4\n",
    "df_base4 = pd.DataFrame({\n",
    "    'CustomerID': [201, 202, 203, 204],\n",
    "    'Name': ['siri kumari', 'bhavya ch', 'nithin sai', 'rahul dravid'],\n",
    "    'Address': ['AP', 'KA', 'TS', 'TN'],\n",
    "    'Email': ['siri@gmail.com', 'bhavya@gmail.com', 'nithin@gmail.com', 'rahul@gmail.com'],\n",
    "    'Phone': ['9000000001', '9000000002', '9000000003', '9000000004'],\n",
    "    'LastUpdated': pd.to_datetime(['2024-01-01'] * 4)\n",
    "})\n",
    "\n",
    "# Load into SQL Server as BASE_TABLE_4\n",
    "df_base4.to_sql(\"BASE_TABLE_4\", con=engine, if_exists=\"replace\", index=False)\n"
   ]
  },
  {
   "cell_type": "code",
   "execution_count": 40,
   "id": "d594ef6f",
   "metadata": {},
   "outputs": [],
   "source": [
    "from sqlalchemy import text\n",
    "\n",
    "with engine.begin() as conn:\n",
    "    conn.execute(text('''\n",
    "        CREATE TABLE  HISTORY_TABLE_4 (\n",
    "            CustomerID INT,\n",
    "            Name VARCHAR(100),\n",
    "            Address VARCHAR(100),\n",
    "            Email VARCHAR(100),\n",
    "            Phone VARCHAR(20),\n",
    "            LastUpdated DATETIME\n",
    "        )\n",
    "    '''))\n"
   ]
  },
  {
   "cell_type": "code",
   "execution_count": 41,
   "id": "a45ef042",
   "metadata": {},
   "outputs": [],
   "source": [
    "df_changes4 = pd.DataFrame({\n",
    "    'CustomerID': [202, 205],\n",
    "    'Name': ['bhavya ch', 'nanda sai'],\n",
    "    'Address': ['MH', 'OD'],\n",
    "    'Email': ['bhavya@gmail.com', 'nandasai@gmail.com'],\n",
    "    'Phone': ['9111111111', '9333333333'],\n",
    "    'LastUpdated': [pd.to_datetime('2025-06-23'), pd.to_datetime('2025-06-23')]\n",
    "})\n"
   ]
  },
  {
   "cell_type": "code",
   "execution_count": 42,
   "id": "52159c44",
   "metadata": {},
   "outputs": [],
   "source": [
    "with engine.begin() as conn:\n",
    "    for _, row in df_changes4.iterrows():\n",
    "        # Check if the customer exists in BASE_TABLE_4\n",
    "        result = conn.execute(\n",
    "            text(\"SELECT COUNT(*) FROM BASE_TABLE_4 WHERE CustomerID = :cid\"),\n",
    "            {\"cid\": row['CustomerID']}\n",
    "        ).scalar()\n",
    "        \n",
    "        if result > 0:\n",
    "            # Existing customer → store history and update base\n",
    "            conn.execute(text('''\n",
    "                INSERT INTO HISTORY_TABLE_4 (CustomerID, Name, Address, Email, Phone, LastUpdated)\n",
    "                SELECT CustomerID, Name, Address, Email, Phone, LastUpdated\n",
    "                FROM BASE_TABLE_4\n",
    "                WHERE CustomerID = :cid\n",
    "            '''), {'cid': row['CustomerID']})\n",
    "\n",
    "            conn.execute(text('''\n",
    "                UPDATE BASE_TABLE_4\n",
    "                SET Name = :name,\n",
    "                    Address = :addr,\n",
    "                    Email = :email,\n",
    "                    Phone = :ph,\n",
    "                    LastUpdated = :upd\n",
    "                WHERE CustomerID = :cid\n",
    "            '''), {\n",
    "                'cid': row['CustomerID'],\n",
    "                'name': row['Name'],\n",
    "                'addr': row['Address'],\n",
    "                'email': row['Email'],\n",
    "                'ph': row['Phone'],\n",
    "                'upd': row['LastUpdated']\n",
    "            })\n",
    "        else:\n",
    "            # New customer → insert directly into BASE_TABLE_4\n",
    "            conn.execute(text('''\n",
    "                INSERT INTO BASE_TABLE_4 (CustomerID, Name, Address, Email, Phone, LastUpdated)\n",
    "                VALUES (:cid, :name, :addr, :email, :ph, :upd)\n",
    "            '''), {\n",
    "                'cid': row['CustomerID'],\n",
    "                'name': row['Name'],\n",
    "                'addr': row['Address'],\n",
    "                'email': row['Email'],\n",
    "                'ph': row['Phone'],\n",
    "                'upd': row['LastUpdated']\n",
    "            })\n"
   ]
  },
  {
   "cell_type": "code",
   "execution_count": 44,
   "id": "d6daa8ed",
   "metadata": {},
   "outputs": [
    {
     "name": "stdout",
     "output_type": "stream",
     "text": [
      "   CustomerID          Name Address               Email       Phone  \\\n",
      "0         201   siri kumari      AP      siri@gmail.com  9000000001   \n",
      "1         202     bhavya ch      MH    bhavya@gmail.com  9111111111   \n",
      "2         203    nithin sai      TS    nithin@gmail.com  9000000003   \n",
      "3         204  rahul dravid      TN     rahul@gmail.com  9000000004   \n",
      "4         205     nanda sai      OD  nandasai@gmail.com  9333333333   \n",
      "\n",
      "  LastUpdated  \n",
      "0  2024-01-01  \n",
      "1  2025-06-23  \n",
      "2  2024-01-01  \n",
      "3  2024-01-01  \n",
      "4  2025-06-23  \n"
     ]
    }
   ],
   "source": [
    "df_base = pd.read_sql(\"SELECT * FROM BASE_TABLE_4\", con=engine)\n",
    "\n",
    "print(df_base)"
   ]
  },
  {
   "cell_type": "code",
   "execution_count": 45,
   "id": "ecd25610",
   "metadata": {},
   "outputs": [
    {
     "name": "stdout",
     "output_type": "stream",
     "text": [
      "   CustomerID       Name Address             Email       Phone LastUpdated\n",
      "0         202  bhavya ch      KA  bhavya@gmail.com  9000000002  2024-01-01\n"
     ]
    }
   ],
   "source": [
    "# View history table (only old versions of changed records)\n",
    "df_history = pd.read_sql(\"SELECT * FROM HISTORY_TABLE_4\", con=engine)\n",
    "\n",
    "print(df_history)"
   ]
  }
 ],
 "metadata": {
  "kernelspec": {
   "display_name": "myenv",
   "language": "python",
   "name": "python3"
  },
  "language_info": {
   "codemirror_mode": {
    "name": "ipython",
    "version": 3
   },
   "file_extension": ".py",
   "mimetype": "text/x-python",
   "name": "python",
   "nbconvert_exporter": "python",
   "pygments_lexer": "ipython3",
   "version": "3.10.11"
  }
 },
 "nbformat": 4,
 "nbformat_minor": 5
}
