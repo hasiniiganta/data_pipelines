{
 "cells": [
  {
   "cell_type": "code",
   "execution_count": 268,
   "id": "fb810911",
   "metadata": {},
   "outputs": [],
   "source": [
    "#pip install pandas pyodbc sqlalchemy\n"
   ]
  },
  {
   "cell_type": "code",
   "execution_count": 269,
   "id": "3c227988",
   "metadata": {},
   "outputs": [
    {
     "name": "stdout",
     "output_type": "stream",
     "text": [
      " Uploaded us_customer_data.csv as table `customers`.\n",
      " Uploaded order_data.csv as table `orders`.\n"
     ]
    }
   ],
   "source": [
    "import pandas as pd\n",
    "from sqlalchemy import create_engine\n",
    "from sqlalchemy.engine import URL\n",
    "\n",
    "# Step 1: Define connection info\n",
    "connection_url = URL.create(\n",
    "    \"mssql+pyodbc\",\n",
    "    username=\"sa\",\n",
    "    password=\"Hasini@07\",\n",
    "    host=\"DESKTOP-1M0C5L8\\\\SQLEXPRESS01\",\n",
    "    database=\"pipelines_day2\",\n",
    "    query={\"driver\": \"ODBC Driver 17 for SQL Server\"}\n",
    ")\n",
    "\n",
    "# Step 2: Create engine\n",
    "engine = create_engine(connection_url)\n",
    "\n",
    "# Step 3: Define CSV to table mapping\n",
    "csv_files = {\n",
    "    'us_customer_data.csv': 'customers',\n",
    "    'order_data.csv': 'orders'\n",
    "}\n",
    "\n",
    "# Step 4: Upload each CSV file to corresponding SQL table\n",
    "for csv_file, table_name in csv_files.items():\n",
    "    df = pd.read_csv(csv_file)\n",
    "    df.to_sql(table_name, con=engine, if_exists='replace', index=False)\n",
    "    print(f\" Uploaded {csv_file} as table `{table_name}`.\")\n"
   ]
  },
  {
   "cell_type": "code",
   "execution_count": 270,
   "id": "cffaa79c",
   "metadata": {},
   "outputs": [
    {
     "name": "stdout",
     "output_type": "stream",
     "text": [
      "Extracted customers table:\n"
     ]
    },
    {
     "data": {
      "text/html": [
       "<div>\n",
       "<style scoped>\n",
       "    .dataframe tbody tr th:only-of-type {\n",
       "        vertical-align: middle;\n",
       "    }\n",
       "\n",
       "    .dataframe tbody tr th {\n",
       "        vertical-align: top;\n",
       "    }\n",
       "\n",
       "    .dataframe thead th {\n",
       "        text-align: right;\n",
       "    }\n",
       "</style>\n",
       "<table border=\"1\" class=\"dataframe\">\n",
       "  <thead>\n",
       "    <tr style=\"text-align: right;\">\n",
       "      <th></th>\n",
       "      <th>customer_id</th>\n",
       "      <th>name</th>\n",
       "      <th>email</th>\n",
       "      <th>phone</th>\n",
       "      <th>address</th>\n",
       "      <th>registration_date</th>\n",
       "      <th>loyalty_status</th>\n",
       "    </tr>\n",
       "  </thead>\n",
       "  <tbody>\n",
       "    <tr>\n",
       "      <th>0</th>\n",
       "      <td>1</td>\n",
       "      <td>Michelle Kidd</td>\n",
       "      <td>vayala@example.net</td>\n",
       "      <td>619-723-4258</td>\n",
       "      <td>USNS Santiago, FPO AE 80872</td>\n",
       "      <td>25-01-2025</td>\n",
       "      <td>Gold</td>\n",
       "    </tr>\n",
       "    <tr>\n",
       "      <th>1</th>\n",
       "      <td>2</td>\n",
       "      <td>Brad Newton</td>\n",
       "      <td>taylorcatherine@example.net</td>\n",
       "      <td>537-674-1158</td>\n",
       "      <td>38783 Oliver Street, West Kristenborough, MT 9...</td>\n",
       "      <td>13-07-2023</td>\n",
       "      <td>Silver</td>\n",
       "    </tr>\n",
       "    <tr>\n",
       "      <th>2</th>\n",
       "      <td>3</td>\n",
       "      <td>Larry Torres</td>\n",
       "      <td>dsanchez@example.net</td>\n",
       "      <td>810-256-4505</td>\n",
       "      <td>6845 Steele Turnpike, West Erikabury, UT 37487</td>\n",
       "      <td>18-08-2023</td>\n",
       "      <td>Bronze</td>\n",
       "    </tr>\n",
       "    <tr>\n",
       "      <th>3</th>\n",
       "      <td>4</td>\n",
       "      <td>Kimberly Price</td>\n",
       "      <td>jessicaknight@example.com</td>\n",
       "      <td>423-222-9779</td>\n",
       "      <td>1631 Alexis Meadows, Lake Amanda, CA 75179</td>\n",
       "      <td>08-12-2024</td>\n",
       "      <td>Gold</td>\n",
       "    </tr>\n",
       "    <tr>\n",
       "      <th>4</th>\n",
       "      <td>5</td>\n",
       "      <td>Matthew Phillips</td>\n",
       "      <td>qwilliams@example.com</td>\n",
       "      <td>220-763-3522</td>\n",
       "      <td>2274 Williams Heights Suite 895, Andersonhaven...</td>\n",
       "      <td>03-02-2024</td>\n",
       "      <td>Gold</td>\n",
       "    </tr>\n",
       "  </tbody>\n",
       "</table>\n",
       "</div>"
      ],
      "text/plain": [
       "   customer_id              name                        email         phone  \\\n",
       "0            1     Michelle Kidd           vayala@example.net  619-723-4258   \n",
       "1            2       Brad Newton  taylorcatherine@example.net  537-674-1158   \n",
       "2            3      Larry Torres         dsanchez@example.net  810-256-4505   \n",
       "3            4    Kimberly Price    jessicaknight@example.com  423-222-9779   \n",
       "4            5  Matthew Phillips        qwilliams@example.com  220-763-3522   \n",
       "\n",
       "                                             address registration_date  \\\n",
       "0                        USNS Santiago, FPO AE 80872        25-01-2025   \n",
       "1  38783 Oliver Street, West Kristenborough, MT 9...        13-07-2023   \n",
       "2     6845 Steele Turnpike, West Erikabury, UT 37487        18-08-2023   \n",
       "3         1631 Alexis Meadows, Lake Amanda, CA 75179        08-12-2024   \n",
       "4  2274 Williams Heights Suite 895, Andersonhaven...        03-02-2024   \n",
       "\n",
       "  loyalty_status  \n",
       "0           Gold  \n",
       "1         Silver  \n",
       "2         Bronze  \n",
       "3           Gold  \n",
       "4           Gold  "
      ]
     },
     "execution_count": 270,
     "metadata": {},
     "output_type": "execute_result"
    }
   ],
   "source": [
    "import pandas as pd\n",
    "\n",
    "# Extract customers table into a DataFrame\n",
    "customers_df = pd.read_sql(\"SELECT * FROM customers\", con=engine)\n",
    "print(\"Extracted customers table:\")\n",
    "customers_df.head()\n"
   ]
  },
  {
   "cell_type": "code",
   "execution_count": 271,
   "id": "4ff9f777",
   "metadata": {},
   "outputs": [
    {
     "name": "stdout",
     "output_type": "stream",
     "text": [
      "Extracted orders table:\n"
     ]
    },
    {
     "data": {
      "text/html": [
       "<div>\n",
       "<style scoped>\n",
       "    .dataframe tbody tr th:only-of-type {\n",
       "        vertical-align: middle;\n",
       "    }\n",
       "\n",
       "    .dataframe tbody tr th {\n",
       "        vertical-align: top;\n",
       "    }\n",
       "\n",
       "    .dataframe thead th {\n",
       "        text-align: right;\n",
       "    }\n",
       "</style>\n",
       "<table border=\"1\" class=\"dataframe\">\n",
       "  <thead>\n",
       "    <tr style=\"text-align: right;\">\n",
       "      <th></th>\n",
       "      <th>order_id</th>\n",
       "      <th>customer_id</th>\n",
       "      <th>order_date</th>\n",
       "      <th>order_amount</th>\n",
       "      <th>order_status</th>\n",
       "      <th>product_category</th>\n",
       "    </tr>\n",
       "  </thead>\n",
       "  <tbody>\n",
       "    <tr>\n",
       "      <th>0</th>\n",
       "      <td>892a07a4-d252-4775-85e0-73077143e1c6</td>\n",
       "      <td>966</td>\n",
       "      <td>2024-11-27</td>\n",
       "      <td>317.64</td>\n",
       "      <td>Cancelled</td>\n",
       "      <td>Home &amp; Garden</td>\n",
       "    </tr>\n",
       "    <tr>\n",
       "      <th>1</th>\n",
       "      <td>ae160758-e187-47b2-9350-032f88f55491</td>\n",
       "      <td>345</td>\n",
       "      <td>2023-03-27</td>\n",
       "      <td>645.87</td>\n",
       "      <td>Completed</td>\n",
       "      <td>Home &amp; Garden</td>\n",
       "    </tr>\n",
       "    <tr>\n",
       "      <th>2</th>\n",
       "      <td>7c50456e-6123-45cc-aa19-128bef3754d6</td>\n",
       "      <td>503</td>\n",
       "      <td>2024-03-31</td>\n",
       "      <td>880.86</td>\n",
       "      <td>Pending</td>\n",
       "      <td>Clothing</td>\n",
       "    </tr>\n",
       "    <tr>\n",
       "      <th>3</th>\n",
       "      <td>c788b56b-3716-4cd9-a827-d4dc401ba00c</td>\n",
       "      <td>385</td>\n",
       "      <td>2023-08-09</td>\n",
       "      <td>876.83</td>\n",
       "      <td>Cancelled</td>\n",
       "      <td>Home &amp; Garden</td>\n",
       "    </tr>\n",
       "    <tr>\n",
       "      <th>4</th>\n",
       "      <td>925ab5b1-adb1-4302-a70b-1c2db724e02b</td>\n",
       "      <td>817</td>\n",
       "      <td>2023-04-19</td>\n",
       "      <td>264.53</td>\n",
       "      <td>Pending</td>\n",
       "      <td>Home &amp; Garden</td>\n",
       "    </tr>\n",
       "  </tbody>\n",
       "</table>\n",
       "</div>"
      ],
      "text/plain": [
       "                               order_id  customer_id  order_date  \\\n",
       "0  892a07a4-d252-4775-85e0-73077143e1c6          966  2024-11-27   \n",
       "1  ae160758-e187-47b2-9350-032f88f55491          345  2023-03-27   \n",
       "2  7c50456e-6123-45cc-aa19-128bef3754d6          503  2024-03-31   \n",
       "3  c788b56b-3716-4cd9-a827-d4dc401ba00c          385  2023-08-09   \n",
       "4  925ab5b1-adb1-4302-a70b-1c2db724e02b          817  2023-04-19   \n",
       "\n",
       "   order_amount order_status product_category  \n",
       "0        317.64    Cancelled    Home & Garden  \n",
       "1        645.87    Completed    Home & Garden  \n",
       "2        880.86      Pending         Clothing  \n",
       "3        876.83    Cancelled    Home & Garden  \n",
       "4        264.53      Pending    Home & Garden  "
      ]
     },
     "execution_count": 271,
     "metadata": {},
     "output_type": "execute_result"
    }
   ],
   "source": [
    "# Extract orders table into a DataFrame\n",
    "orders_df = pd.read_sql(\"SELECT * FROM orders\", con=engine)\n",
    "print(\"Extracted orders table:\")\n",
    "orders_df.head()\n"
   ]
  },
  {
   "cell_type": "code",
   "execution_count": 272,
   "id": "6ae9802a",
   "metadata": {},
   "outputs": [
    {
     "name": "stdout",
     "output_type": "stream",
     "text": [
      "Unified Customer View created. Preview:\n"
     ]
    },
    {
     "data": {
      "text/html": [
       "<div>\n",
       "<style scoped>\n",
       "    .dataframe tbody tr th:only-of-type {\n",
       "        vertical-align: middle;\n",
       "    }\n",
       "\n",
       "    .dataframe tbody tr th {\n",
       "        vertical-align: top;\n",
       "    }\n",
       "\n",
       "    .dataframe thead th {\n",
       "        text-align: right;\n",
       "    }\n",
       "</style>\n",
       "<table border=\"1\" class=\"dataframe\">\n",
       "  <thead>\n",
       "    <tr style=\"text-align: right;\">\n",
       "      <th></th>\n",
       "      <th>customer_id</th>\n",
       "      <th>name</th>\n",
       "      <th>email</th>\n",
       "      <th>phone</th>\n",
       "      <th>address</th>\n",
       "      <th>registration_date</th>\n",
       "      <th>loyalty_status</th>\n",
       "      <th>order_id</th>\n",
       "      <th>order_date</th>\n",
       "      <th>order_amount</th>\n",
       "      <th>order_status</th>\n",
       "      <th>product_category</th>\n",
       "    </tr>\n",
       "  </thead>\n",
       "  <tbody>\n",
       "    <tr>\n",
       "      <th>0</th>\n",
       "      <td>2</td>\n",
       "      <td>Brad Newton</td>\n",
       "      <td>taylorcatherine@example.net</td>\n",
       "      <td>537-674-1158</td>\n",
       "      <td>38783 Oliver Street, West Kristenborough, MT 9...</td>\n",
       "      <td>13-07-2023</td>\n",
       "      <td>Silver</td>\n",
       "      <td>209c024e-6c32-49fa-acd1-2501bd19c1cd</td>\n",
       "      <td>2023-10-30</td>\n",
       "      <td>486.53</td>\n",
       "      <td>Pending</td>\n",
       "      <td>Toys</td>\n",
       "    </tr>\n",
       "    <tr>\n",
       "      <th>1</th>\n",
       "      <td>2</td>\n",
       "      <td>Brad Newton</td>\n",
       "      <td>taylorcatherine@example.net</td>\n",
       "      <td>537-674-1158</td>\n",
       "      <td>38783 Oliver Street, West Kristenborough, MT 9...</td>\n",
       "      <td>13-07-2023</td>\n",
       "      <td>Silver</td>\n",
       "      <td>3f263091-da18-48a6-8b00-c179e1b1a81a</td>\n",
       "      <td>2024-08-29</td>\n",
       "      <td>781.22</td>\n",
       "      <td>Pending</td>\n",
       "      <td>Books</td>\n",
       "    </tr>\n",
       "    <tr>\n",
       "      <th>2</th>\n",
       "      <td>3</td>\n",
       "      <td>Larry Torres</td>\n",
       "      <td>dsanchez@example.net</td>\n",
       "      <td>810-256-4505</td>\n",
       "      <td>6845 Steele Turnpike, West Erikabury, UT 37487</td>\n",
       "      <td>18-08-2023</td>\n",
       "      <td>Bronze</td>\n",
       "      <td>63d7870e-617e-4f49-ae9b-b893e635e43f</td>\n",
       "      <td>2023-04-05</td>\n",
       "      <td>454.07</td>\n",
       "      <td>Pending</td>\n",
       "      <td>Toys</td>\n",
       "    </tr>\n",
       "    <tr>\n",
       "      <th>3</th>\n",
       "      <td>4</td>\n",
       "      <td>Kimberly Price</td>\n",
       "      <td>jessicaknight@example.com</td>\n",
       "      <td>423-222-9779</td>\n",
       "      <td>1631 Alexis Meadows, Lake Amanda, CA 75179</td>\n",
       "      <td>08-12-2024</td>\n",
       "      <td>Gold</td>\n",
       "      <td>cbe7b5ef-013f-4b4f-9ac4-3b510075080a</td>\n",
       "      <td>2023-08-12</td>\n",
       "      <td>259.07</td>\n",
       "      <td>Cancelled</td>\n",
       "      <td>Electronics</td>\n",
       "    </tr>\n",
       "    <tr>\n",
       "      <th>4</th>\n",
       "      <td>4</td>\n",
       "      <td>Kimberly Price</td>\n",
       "      <td>jessicaknight@example.com</td>\n",
       "      <td>423-222-9779</td>\n",
       "      <td>1631 Alexis Meadows, Lake Amanda, CA 75179</td>\n",
       "      <td>08-12-2024</td>\n",
       "      <td>Gold</td>\n",
       "      <td>21209e05-078a-402d-a450-dd310595e5f0</td>\n",
       "      <td>2024-08-27</td>\n",
       "      <td>117.03</td>\n",
       "      <td>Completed</td>\n",
       "      <td>Electronics</td>\n",
       "    </tr>\n",
       "  </tbody>\n",
       "</table>\n",
       "</div>"
      ],
      "text/plain": [
       "   customer_id            name                        email         phone  \\\n",
       "0            2     Brad Newton  taylorcatherine@example.net  537-674-1158   \n",
       "1            2     Brad Newton  taylorcatherine@example.net  537-674-1158   \n",
       "2            3    Larry Torres         dsanchez@example.net  810-256-4505   \n",
       "3            4  Kimberly Price    jessicaknight@example.com  423-222-9779   \n",
       "4            4  Kimberly Price    jessicaknight@example.com  423-222-9779   \n",
       "\n",
       "                                             address registration_date  \\\n",
       "0  38783 Oliver Street, West Kristenborough, MT 9...        13-07-2023   \n",
       "1  38783 Oliver Street, West Kristenborough, MT 9...        13-07-2023   \n",
       "2     6845 Steele Turnpike, West Erikabury, UT 37487        18-08-2023   \n",
       "3         1631 Alexis Meadows, Lake Amanda, CA 75179        08-12-2024   \n",
       "4         1631 Alexis Meadows, Lake Amanda, CA 75179        08-12-2024   \n",
       "\n",
       "  loyalty_status                              order_id  order_date  \\\n",
       "0         Silver  209c024e-6c32-49fa-acd1-2501bd19c1cd  2023-10-30   \n",
       "1         Silver  3f263091-da18-48a6-8b00-c179e1b1a81a  2024-08-29   \n",
       "2         Bronze  63d7870e-617e-4f49-ae9b-b893e635e43f  2023-04-05   \n",
       "3           Gold  cbe7b5ef-013f-4b4f-9ac4-3b510075080a  2023-08-12   \n",
       "4           Gold  21209e05-078a-402d-a450-dd310595e5f0  2024-08-27   \n",
       "\n",
       "   order_amount order_status product_category  \n",
       "0        486.53      Pending             Toys  \n",
       "1        781.22      Pending            Books  \n",
       "2        454.07      Pending             Toys  \n",
       "3        259.07    Cancelled      Electronics  \n",
       "4        117.03    Completed      Electronics  "
      ]
     },
     "execution_count": 272,
     "metadata": {},
     "output_type": "execute_result"
    }
   ],
   "source": [
    "# Merge customers and orders using customer_id\n",
    "df = pd.merge(customers_df, orders_df, on='customer_id', how='inner')\n",
    "\n",
    "print(\"Unified Customer View created. Preview:\")\n",
    "df.head()\n"
   ]
  },
  {
   "cell_type": "code",
   "execution_count": 273,
   "id": "67a870f7",
   "metadata": {},
   "outputs": [
    {
     "data": {
      "text/plain": [
       "customer_id            0\n",
       "name                   0\n",
       "email                106\n",
       "phone                 35\n",
       "address                0\n",
       "registration_date      0\n",
       "loyalty_status         0\n",
       "order_id               0\n",
       "order_date             0\n",
       "order_amount           0\n",
       "order_status           0\n",
       "product_category       0\n",
       "dtype: int64"
      ]
     },
     "execution_count": 273,
     "metadata": {},
     "output_type": "execute_result"
    }
   ],
   "source": [
    "df.isnull().sum()  # Check for null values in the merged DataFrame"
   ]
  },
  {
   "cell_type": "code",
   "execution_count": 274,
   "id": "4fad7d0d",
   "metadata": {},
   "outputs": [
    {
     "data": {
      "text/plain": [
       "customer_id           868\n",
       "name                  859\n",
       "email                 763\n",
       "phone                 852\n",
       "address               868\n",
       "registration_date     513\n",
       "loyalty_status          3\n",
       "order_id             2000\n",
       "order_date            688\n",
       "order_amount         1974\n",
       "order_status            3\n",
       "product_category        5\n",
       "dtype: int64"
      ]
     },
     "execution_count": 274,
     "metadata": {},
     "output_type": "execute_result"
    }
   ],
   "source": [
    "df.nunique()  # Check for unique values in the merged DataFrame"
   ]
  },
  {
   "cell_type": "code",
   "execution_count": 275,
   "id": "0aaf7cc5",
   "metadata": {},
   "outputs": [
    {
     "data": {
      "text/plain": [
       "(2000, 12)"
      ]
     },
     "execution_count": 275,
     "metadata": {},
     "output_type": "execute_result"
    }
   ],
   "source": [
    "df.shape"
   ]
  },
  {
   "cell_type": "code",
   "execution_count": 276,
   "id": "8874c888",
   "metadata": {},
   "outputs": [],
   "source": [
    "# Define regex for prefixes and suffixes\n",
    "prefixes = r'^(Mr\\.|Mrs\\.|Miss|Ms\\.|Dr\\.)\\s*'\n",
    "suffixes = r'\\s*(Jr\\.|Sr\\.|II|III|DDS|PhD|MD|MBA|DVM|Esq\\.?)$'\n",
    "\n",
    "\n",
    "# Step 2: Remove prefix from beginning\n",
    "df['name'] = df['name'].str.replace(prefixes, '', regex=True)\n",
    "\n",
    "# Step 3: Remove suffix from end\n",
    "df['name'] = df['name'].str.replace(suffixes, '', regex=True)\n"
   ]
  },
  {
   "cell_type": "code",
   "execution_count": 277,
   "id": "7d7419ba",
   "metadata": {},
   "outputs": [
    {
     "name": "stdout",
     "output_type": "stream",
     "text": [
      "      customer_id            name                        email         phone  \\\n",
      "0               2     Brad Newton  taylorcatherine@example.net  537-674-1158   \n",
      "1               2     Brad Newton  taylorcatherine@example.net  537-674-1158   \n",
      "2               3    Larry Torres         dsanchez@example.net  810-256-4505   \n",
      "3               4  Kimberly Price    jessicaknight@example.com  423-222-9779   \n",
      "4               4  Kimberly Price    jessicaknight@example.com  423-222-9779   \n",
      "...           ...             ...                          ...           ...   \n",
      "1995          997    Jodi Simpson           eric24@example.org  483-625-2940   \n",
      "1996          998   Crystal Brown         pshaffer@example.net  390-747-3088   \n",
      "1997          998   Crystal Brown         pshaffer@example.net  390-747-3088   \n",
      "1998          999  Gregory Duarte    caitlindunlap@example.org  257-409-8196   \n",
      "1999         1000     Jason Walls        michael42@example.com  692-333-6880   \n",
      "\n",
      "                                                address registration_date  \\\n",
      "0     38783 Oliver Street, West Kristenborough, MT 9...        13-07-2023   \n",
      "1     38783 Oliver Street, West Kristenborough, MT 9...        13-07-2023   \n",
      "2        6845 Steele Turnpike, West Erikabury, UT 37487        18-08-2023   \n",
      "3            1631 Alexis Meadows, Lake Amanda, CA 75179        08-12-2024   \n",
      "4            1631 Alexis Meadows, Lake Amanda, CA 75179        08-12-2024   \n",
      "...                                                 ...               ...   \n",
      "1995  2876 Tucker Road Suite 947, North Tommyborough...        18-04-2024   \n",
      "1996  095 Janice Forest Suite 570, Boltonmouth, DE 7...        30-08-2024   \n",
      "1997  095 Janice Forest Suite 570, Boltonmouth, DE 7...        30-08-2024   \n",
      "1998                   Unit 6377 Box 7662, DPO AP 03300        16-05-2024   \n",
      "1999             95002 Bruce Rue, Camachoport, MH 58723        10-12-2024   \n",
      "\n",
      "     loyalty_status                              order_id  order_date  \\\n",
      "0            Silver  209c024e-6c32-49fa-acd1-2501bd19c1cd  2023-10-30   \n",
      "1            Silver  3f263091-da18-48a6-8b00-c179e1b1a81a  2024-08-29   \n",
      "2            Bronze  63d7870e-617e-4f49-ae9b-b893e635e43f  2023-04-05   \n",
      "3              Gold  cbe7b5ef-013f-4b4f-9ac4-3b510075080a  2023-08-12   \n",
      "4              Gold  21209e05-078a-402d-a450-dd310595e5f0  2024-08-27   \n",
      "...             ...                                   ...         ...   \n",
      "1995         Bronze  1f68878c-e2ea-4995-8bed-fe081cf68de1  2023-12-31   \n",
      "1996         Bronze  6591af07-d6f0-4a4d-8b17-af2f2a0024bc  2024-11-14   \n",
      "1997         Bronze  40147e83-5ddc-4c9d-a936-2e9adde8a3be  2024-09-23   \n",
      "1998           Gold  37c6d783-c697-4d0a-99d0-4bbef1cbb884  2024-02-22   \n",
      "1999         Bronze  3c8b9c0d-ffa8-41fa-a75b-ec4aee2bc780  2023-12-12   \n",
      "\n",
      "      order_amount order_status product_category  \n",
      "0           486.53      Pending             Toys  \n",
      "1           781.22      Pending            Books  \n",
      "2           454.07      Pending             Toys  \n",
      "3           259.07    Cancelled      Electronics  \n",
      "4           117.03    Completed      Electronics  \n",
      "...            ...          ...              ...  \n",
      "1995        761.54    Completed            Books  \n",
      "1996        259.09    Completed      Electronics  \n",
      "1997        535.74    Cancelled             Toys  \n",
      "1998         57.45      Pending            Books  \n",
      "1999        867.26    Cancelled             Toys  \n",
      "\n",
      "[2000 rows x 12 columns]\n"
     ]
    }
   ],
   "source": [
    "print(df)"
   ]
  },
  {
   "cell_type": "code",
   "execution_count": 278,
   "id": "159644fb",
   "metadata": {},
   "outputs": [],
   "source": [
    "# Split name into two parts: First and Last\n",
    "df[['First_Name', 'Last_Name']] = df['name'].str.strip().str.split(' ', n=1, expand=True)"
   ]
  },
  {
   "cell_type": "code",
   "execution_count": 279,
   "id": "28c2d8a9",
   "metadata": {},
   "outputs": [
    {
     "name": "stdout",
     "output_type": "stream",
     "text": [
      "      customer_id            name                        email         phone  \\\n",
      "0               2     Brad Newton  taylorcatherine@example.net  537-674-1158   \n",
      "1               2     Brad Newton  taylorcatherine@example.net  537-674-1158   \n",
      "2               3    Larry Torres         dsanchez@example.net  810-256-4505   \n",
      "3               4  Kimberly Price    jessicaknight@example.com  423-222-9779   \n",
      "4               4  Kimberly Price    jessicaknight@example.com  423-222-9779   \n",
      "...           ...             ...                          ...           ...   \n",
      "1995          997    Jodi Simpson           eric24@example.org  483-625-2940   \n",
      "1996          998   Crystal Brown         pshaffer@example.net  390-747-3088   \n",
      "1997          998   Crystal Brown         pshaffer@example.net  390-747-3088   \n",
      "1998          999  Gregory Duarte    caitlindunlap@example.org  257-409-8196   \n",
      "1999         1000     Jason Walls        michael42@example.com  692-333-6880   \n",
      "\n",
      "                                                address registration_date  \\\n",
      "0     38783 Oliver Street, West Kristenborough, MT 9...        13-07-2023   \n",
      "1     38783 Oliver Street, West Kristenborough, MT 9...        13-07-2023   \n",
      "2        6845 Steele Turnpike, West Erikabury, UT 37487        18-08-2023   \n",
      "3            1631 Alexis Meadows, Lake Amanda, CA 75179        08-12-2024   \n",
      "4            1631 Alexis Meadows, Lake Amanda, CA 75179        08-12-2024   \n",
      "...                                                 ...               ...   \n",
      "1995  2876 Tucker Road Suite 947, North Tommyborough...        18-04-2024   \n",
      "1996  095 Janice Forest Suite 570, Boltonmouth, DE 7...        30-08-2024   \n",
      "1997  095 Janice Forest Suite 570, Boltonmouth, DE 7...        30-08-2024   \n",
      "1998                   Unit 6377 Box 7662, DPO AP 03300        16-05-2024   \n",
      "1999             95002 Bruce Rue, Camachoport, MH 58723        10-12-2024   \n",
      "\n",
      "     loyalty_status                              order_id  order_date  \\\n",
      "0            Silver  209c024e-6c32-49fa-acd1-2501bd19c1cd  2023-10-30   \n",
      "1            Silver  3f263091-da18-48a6-8b00-c179e1b1a81a  2024-08-29   \n",
      "2            Bronze  63d7870e-617e-4f49-ae9b-b893e635e43f  2023-04-05   \n",
      "3              Gold  cbe7b5ef-013f-4b4f-9ac4-3b510075080a  2023-08-12   \n",
      "4              Gold  21209e05-078a-402d-a450-dd310595e5f0  2024-08-27   \n",
      "...             ...                                   ...         ...   \n",
      "1995         Bronze  1f68878c-e2ea-4995-8bed-fe081cf68de1  2023-12-31   \n",
      "1996         Bronze  6591af07-d6f0-4a4d-8b17-af2f2a0024bc  2024-11-14   \n",
      "1997         Bronze  40147e83-5ddc-4c9d-a936-2e9adde8a3be  2024-09-23   \n",
      "1998           Gold  37c6d783-c697-4d0a-99d0-4bbef1cbb884  2024-02-22   \n",
      "1999         Bronze  3c8b9c0d-ffa8-41fa-a75b-ec4aee2bc780  2023-12-12   \n",
      "\n",
      "      order_amount order_status product_category First_Name Last_Name  \n",
      "0           486.53      Pending             Toys       Brad    Newton  \n",
      "1           781.22      Pending            Books       Brad    Newton  \n",
      "2           454.07      Pending             Toys      Larry    Torres  \n",
      "3           259.07    Cancelled      Electronics   Kimberly     Price  \n",
      "4           117.03    Completed      Electronics   Kimberly     Price  \n",
      "...            ...          ...              ...        ...       ...  \n",
      "1995        761.54    Completed            Books       Jodi   Simpson  \n",
      "1996        259.09    Completed      Electronics    Crystal     Brown  \n",
      "1997        535.74    Cancelled             Toys    Crystal     Brown  \n",
      "1998         57.45      Pending            Books    Gregory    Duarte  \n",
      "1999        867.26    Cancelled             Toys      Jason     Walls  \n",
      "\n",
      "[2000 rows x 14 columns]\n"
     ]
    }
   ],
   "source": [
    "print(df)"
   ]
  },
  {
   "cell_type": "code",
   "execution_count": 280,
   "id": "68dd56a2",
   "metadata": {},
   "outputs": [
    {
     "data": {
      "text/plain": [
       "Index(['customer_id', 'name', 'email', 'phone', 'address', 'registration_date',\n",
       "       'loyalty_status', 'order_id', 'order_date', 'order_amount',\n",
       "       'order_status', 'product_category', 'First_Name', 'Last_Name'],\n",
       "      dtype='object')"
      ]
     },
     "execution_count": 280,
     "metadata": {},
     "output_type": "execute_result"
    }
   ],
   "source": [
    "df.columns"
   ]
  },
  {
   "cell_type": "code",
   "execution_count": 281,
   "id": "d92230c9",
   "metadata": {},
   "outputs": [
    {
     "data": {
      "text/html": [
       "<div>\n",
       "<style scoped>\n",
       "    .dataframe tbody tr th:only-of-type {\n",
       "        vertical-align: middle;\n",
       "    }\n",
       "\n",
       "    .dataframe tbody tr th {\n",
       "        vertical-align: top;\n",
       "    }\n",
       "\n",
       "    .dataframe thead th {\n",
       "        text-align: right;\n",
       "    }\n",
       "</style>\n",
       "<table border=\"1\" class=\"dataframe\">\n",
       "  <thead>\n",
       "    <tr style=\"text-align: right;\">\n",
       "      <th></th>\n",
       "      <th>customer_id</th>\n",
       "      <th>name</th>\n",
       "      <th>First_Name</th>\n",
       "      <th>Last_Name</th>\n",
       "      <th>email</th>\n",
       "      <th>phone</th>\n",
       "      <th>address</th>\n",
       "      <th>registration_date</th>\n",
       "      <th>loyalty_status</th>\n",
       "      <th>order_id</th>\n",
       "      <th>order_date</th>\n",
       "      <th>order_amount</th>\n",
       "      <th>order_status</th>\n",
       "      <th>product_category</th>\n",
       "    </tr>\n",
       "  </thead>\n",
       "  <tbody>\n",
       "    <tr>\n",
       "      <th>0</th>\n",
       "      <td>2</td>\n",
       "      <td>Brad Newton</td>\n",
       "      <td>Brad</td>\n",
       "      <td>Newton</td>\n",
       "      <td>taylorcatherine@example.net</td>\n",
       "      <td>537-674-1158</td>\n",
       "      <td>38783 Oliver Street, West Kristenborough, MT 9...</td>\n",
       "      <td>13-07-2023</td>\n",
       "      <td>Silver</td>\n",
       "      <td>209c024e-6c32-49fa-acd1-2501bd19c1cd</td>\n",
       "      <td>2023-10-30</td>\n",
       "      <td>486.53</td>\n",
       "      <td>Pending</td>\n",
       "      <td>Toys</td>\n",
       "    </tr>\n",
       "    <tr>\n",
       "      <th>1</th>\n",
       "      <td>2</td>\n",
       "      <td>Brad Newton</td>\n",
       "      <td>Brad</td>\n",
       "      <td>Newton</td>\n",
       "      <td>taylorcatherine@example.net</td>\n",
       "      <td>537-674-1158</td>\n",
       "      <td>38783 Oliver Street, West Kristenborough, MT 9...</td>\n",
       "      <td>13-07-2023</td>\n",
       "      <td>Silver</td>\n",
       "      <td>3f263091-da18-48a6-8b00-c179e1b1a81a</td>\n",
       "      <td>2024-08-29</td>\n",
       "      <td>781.22</td>\n",
       "      <td>Pending</td>\n",
       "      <td>Books</td>\n",
       "    </tr>\n",
       "    <tr>\n",
       "      <th>2</th>\n",
       "      <td>3</td>\n",
       "      <td>Larry Torres</td>\n",
       "      <td>Larry</td>\n",
       "      <td>Torres</td>\n",
       "      <td>dsanchez@example.net</td>\n",
       "      <td>810-256-4505</td>\n",
       "      <td>6845 Steele Turnpike, West Erikabury, UT 37487</td>\n",
       "      <td>18-08-2023</td>\n",
       "      <td>Bronze</td>\n",
       "      <td>63d7870e-617e-4f49-ae9b-b893e635e43f</td>\n",
       "      <td>2023-04-05</td>\n",
       "      <td>454.07</td>\n",
       "      <td>Pending</td>\n",
       "      <td>Toys</td>\n",
       "    </tr>\n",
       "    <tr>\n",
       "      <th>3</th>\n",
       "      <td>4</td>\n",
       "      <td>Kimberly Price</td>\n",
       "      <td>Kimberly</td>\n",
       "      <td>Price</td>\n",
       "      <td>jessicaknight@example.com</td>\n",
       "      <td>423-222-9779</td>\n",
       "      <td>1631 Alexis Meadows, Lake Amanda, CA 75179</td>\n",
       "      <td>08-12-2024</td>\n",
       "      <td>Gold</td>\n",
       "      <td>cbe7b5ef-013f-4b4f-9ac4-3b510075080a</td>\n",
       "      <td>2023-08-12</td>\n",
       "      <td>259.07</td>\n",
       "      <td>Cancelled</td>\n",
       "      <td>Electronics</td>\n",
       "    </tr>\n",
       "    <tr>\n",
       "      <th>4</th>\n",
       "      <td>4</td>\n",
       "      <td>Kimberly Price</td>\n",
       "      <td>Kimberly</td>\n",
       "      <td>Price</td>\n",
       "      <td>jessicaknight@example.com</td>\n",
       "      <td>423-222-9779</td>\n",
       "      <td>1631 Alexis Meadows, Lake Amanda, CA 75179</td>\n",
       "      <td>08-12-2024</td>\n",
       "      <td>Gold</td>\n",
       "      <td>21209e05-078a-402d-a450-dd310595e5f0</td>\n",
       "      <td>2024-08-27</td>\n",
       "      <td>117.03</td>\n",
       "      <td>Completed</td>\n",
       "      <td>Electronics</td>\n",
       "    </tr>\n",
       "  </tbody>\n",
       "</table>\n",
       "</div>"
      ],
      "text/plain": [
       "   customer_id            name First_Name Last_Name  \\\n",
       "0            2     Brad Newton       Brad    Newton   \n",
       "1            2     Brad Newton       Brad    Newton   \n",
       "2            3    Larry Torres      Larry    Torres   \n",
       "3            4  Kimberly Price   Kimberly     Price   \n",
       "4            4  Kimberly Price   Kimberly     Price   \n",
       "\n",
       "                         email         phone  \\\n",
       "0  taylorcatherine@example.net  537-674-1158   \n",
       "1  taylorcatherine@example.net  537-674-1158   \n",
       "2         dsanchez@example.net  810-256-4505   \n",
       "3    jessicaknight@example.com  423-222-9779   \n",
       "4    jessicaknight@example.com  423-222-9779   \n",
       "\n",
       "                                             address registration_date  \\\n",
       "0  38783 Oliver Street, West Kristenborough, MT 9...        13-07-2023   \n",
       "1  38783 Oliver Street, West Kristenborough, MT 9...        13-07-2023   \n",
       "2     6845 Steele Turnpike, West Erikabury, UT 37487        18-08-2023   \n",
       "3         1631 Alexis Meadows, Lake Amanda, CA 75179        08-12-2024   \n",
       "4         1631 Alexis Meadows, Lake Amanda, CA 75179        08-12-2024   \n",
       "\n",
       "  loyalty_status                              order_id  order_date  \\\n",
       "0         Silver  209c024e-6c32-49fa-acd1-2501bd19c1cd  2023-10-30   \n",
       "1         Silver  3f263091-da18-48a6-8b00-c179e1b1a81a  2024-08-29   \n",
       "2         Bronze  63d7870e-617e-4f49-ae9b-b893e635e43f  2023-04-05   \n",
       "3           Gold  cbe7b5ef-013f-4b4f-9ac4-3b510075080a  2023-08-12   \n",
       "4           Gold  21209e05-078a-402d-a450-dd310595e5f0  2024-08-27   \n",
       "\n",
       "   order_amount order_status product_category  \n",
       "0        486.53      Pending             Toys  \n",
       "1        781.22      Pending            Books  \n",
       "2        454.07      Pending             Toys  \n",
       "3        259.07    Cancelled      Electronics  \n",
       "4        117.03    Completed      Electronics  "
      ]
     },
     "execution_count": 281,
     "metadata": {},
     "output_type": "execute_result"
    }
   ],
   "source": [
    "# Get the list of columns\n",
    "cols = df.columns.tolist()\n",
    "\n",
    "# Identify the index of 'name'\n",
    "name_index = cols.index('name')\n",
    "\n",
    "# Remove the new columns from the end\n",
    "cols.remove('First_Name')\n",
    "cols.remove('Last_Name')\n",
    "\n",
    "# Insert them right after 'name'\n",
    "cols.insert(name_index + 1, 'First_Name')\n",
    "cols.insert(name_index + 2, 'Last_Name')\n",
    "\n",
    "# Reorder dataframe\n",
    "df = df[cols]\n",
    "\n",
    "# Preview the new column order\n",
    "df.head()\n"
   ]
  },
  {
   "cell_type": "code",
   "execution_count": 282,
   "id": "ffbe79e2",
   "metadata": {},
   "outputs": [
    {
     "data": {
      "text/plain": [
       "customer_id            0\n",
       "name                   0\n",
       "First_Name             0\n",
       "Last_Name              0\n",
       "email                106\n",
       "phone                 35\n",
       "address                0\n",
       "registration_date      0\n",
       "loyalty_status         0\n",
       "order_id               0\n",
       "order_date             0\n",
       "order_amount           0\n",
       "order_status           0\n",
       "product_category       0\n",
       "dtype: int64"
      ]
     },
     "execution_count": 282,
     "metadata": {},
     "output_type": "execute_result"
    }
   ],
   "source": [
    "df.isnull().sum()"
   ]
  },
  {
   "cell_type": "code",
   "execution_count": 283,
   "id": "396de434",
   "metadata": {},
   "outputs": [],
   "source": [
    "#  Clean the name column\n",
    "df['name'] = df['name'].str.strip().str.title()"
   ]
  },
  {
   "cell_type": "code",
   "execution_count": 284,
   "id": "d2064a91",
   "metadata": {},
   "outputs": [],
   "source": [
    "df['email'] = df.apply(\n",
    "    lambda row: f\"{row['name'].replace(' ', '').lower()}@company.com\"\n",
    "    if pd.isna(row['email']) else row['email'].strip().lower(),\n",
    "    axis=1\n",
    ")"
   ]
  },
  {
   "cell_type": "code",
   "execution_count": 285,
   "id": "1a79a2d8",
   "metadata": {},
   "outputs": [
    {
     "data": {
      "text/plain": [
       "customer_id           0\n",
       "name                  0\n",
       "First_Name            0\n",
       "Last_Name             0\n",
       "email                 0\n",
       "phone                35\n",
       "address               0\n",
       "registration_date     0\n",
       "loyalty_status        0\n",
       "order_id              0\n",
       "order_date            0\n",
       "order_amount          0\n",
       "order_status          0\n",
       "product_category      0\n",
       "dtype: int64"
      ]
     },
     "execution_count": 285,
     "metadata": {},
     "output_type": "execute_result"
    }
   ],
   "source": [
    "df.isnull().sum()"
   ]
  },
  {
   "cell_type": "code",
   "execution_count": 286,
   "id": "33bdb168",
   "metadata": {},
   "outputs": [],
   "source": [
    "# Create a dictionary for mapping\n",
    "tier_map = {\n",
    "    'Gold': 2,\n",
    "    'Silver': 1,\n",
    "    'Bronze': 0\n",
    "}\n",
    "\n",
    "# Apply mapping to create new column\n",
    "df['Customer_Tier'] = df['loyalty_status'].map(tier_map)\n"
   ]
  },
  {
   "cell_type": "code",
   "execution_count": 287,
   "id": "f31dcd42",
   "metadata": {},
   "outputs": [],
   "source": [
    "\n",
    "# Get the list of columns\n",
    "cols = df.columns.tolist()\n",
    "\n",
    "# Move 'Customer_Tier' right after 'loyalty_status'\n",
    "loyalty_idx = cols.index('loyalty_status')\n",
    "cols.insert(loyalty_idx + 1, cols.pop(cols.index('Customer_Tier')))\n",
    "\n",
    "# Reorder DataFrame\n",
    "df = df[cols]\n"
   ]
  },
  {
   "cell_type": "code",
   "execution_count": 288,
   "id": "7cfad701",
   "metadata": {},
   "outputs": [
    {
     "data": {
      "text/plain": [
       "Index(['customer_id', 'name', 'First_Name', 'Last_Name', 'email', 'phone',\n",
       "       'address', 'registration_date', 'loyalty_status', 'Customer_Tier',\n",
       "       'order_id', 'order_date', 'order_amount', 'order_status',\n",
       "       'product_category'],\n",
       "      dtype='object')"
      ]
     },
     "execution_count": 288,
     "metadata": {},
     "output_type": "execute_result"
    }
   ],
   "source": [
    "df.columns"
   ]
  },
  {
   "cell_type": "code",
   "execution_count": 289,
   "id": "d72c0b3a",
   "metadata": {},
   "outputs": [],
   "source": [
    "df['phone'] = df['phone'].fillna('0000000000')"
   ]
  },
  {
   "cell_type": "code",
   "execution_count": 290,
   "id": "0a535c97",
   "metadata": {},
   "outputs": [
    {
     "data": {
      "text/plain": [
       "customer_id          0\n",
       "name                 0\n",
       "First_Name           0\n",
       "Last_Name            0\n",
       "email                0\n",
       "phone                0\n",
       "address              0\n",
       "registration_date    0\n",
       "loyalty_status       0\n",
       "Customer_Tier        0\n",
       "order_id             0\n",
       "order_date           0\n",
       "order_amount         0\n",
       "order_status         0\n",
       "product_category     0\n",
       "dtype: int64"
      ]
     },
     "execution_count": 290,
     "metadata": {},
     "output_type": "execute_result"
    }
   ],
   "source": [
    "df.isnull().sum()   \n",
    "\n"
   ]
  },
  {
   "cell_type": "code",
   "execution_count": 291,
   "id": "8a1c61be",
   "metadata": {},
   "outputs": [],
   "source": [
    "df['phone'] = df['phone'].astype(str)"
   ]
  },
  {
   "cell_type": "code",
   "execution_count": 292,
   "id": "935893f6",
   "metadata": {},
   "outputs": [],
   "source": [
    "df['phone'] = df['phone'].str.replace(r'\\D', '', regex=True)"
   ]
  },
  {
   "cell_type": "code",
   "execution_count": 293,
   "id": "f854094f",
   "metadata": {},
   "outputs": [
    {
     "data": {
      "text/plain": [
       "phone\n",
       "10    1989\n",
       "12       3\n",
       "0        3\n",
       "1        3\n",
       "9        2\n",
       "Name: count, dtype: int64"
      ]
     },
     "execution_count": 293,
     "metadata": {},
     "output_type": "execute_result"
    }
   ],
   "source": [
    "df['phone'].str.len().value_counts()"
   ]
  },
  {
   "cell_type": "code",
   "execution_count": 294,
   "id": "0deaf9b0",
   "metadata": {},
   "outputs": [],
   "source": [
    "df.loc[df['phone'].str.len() != 10, 'phone'] = '0000000000'"
   ]
  },
  {
   "cell_type": "code",
   "execution_count": 296,
   "id": "336a18e1",
   "metadata": {},
   "outputs": [
    {
     "data": {
      "text/plain": [
       "Index(['customer_id', 'name', 'First_Name', 'Last_Name', 'email', 'phone',\n",
       "       'address', 'registration_date', 'loyalty_status', 'Customer_Tier',\n",
       "       'order_id', 'order_date', 'order_amount', 'order_status',\n",
       "       'product_category'],\n",
       "      dtype='object')"
      ]
     },
     "execution_count": 296,
     "metadata": {},
     "output_type": "execute_result"
    }
   ],
   "source": [
    "df.columns"
   ]
  },
  {
   "cell_type": "code",
   "execution_count": null,
   "id": "7d5b5245",
   "metadata": {},
   "outputs": [],
   "source": [
    "# Ensure phone numbers are in the format +1-XXXXXXXXXX\n",
    "df['phone'] = '+1-' + df['phone']\n"
   ]
  },
  {
   "cell_type": "code",
   "execution_count": 300,
   "id": "2c313e05",
   "metadata": {},
   "outputs": [],
   "source": [
    "df.to_csv('cleaned.csv', index=False)\n"
   ]
  },
  {
   "cell_type": "code",
   "execution_count": 301,
   "id": "c01fa022",
   "metadata": {},
   "outputs": [
    {
     "data": {
      "text/plain": [
       "54"
      ]
     },
     "execution_count": 301,
     "metadata": {},
     "output_type": "execute_result"
    }
   ],
   "source": [
    "df.to_sql('unified_customer_view', con=engine, if_exists='replace', index=False)"
   ]
  }
 ],
 "metadata": {
  "kernelspec": {
   "display_name": "myenv",
   "language": "python",
   "name": "python3"
  },
  "language_info": {
   "codemirror_mode": {
    "name": "ipython",
    "version": 3
   },
   "file_extension": ".py",
   "mimetype": "text/x-python",
   "name": "python",
   "nbconvert_exporter": "python",
   "pygments_lexer": "ipython3",
   "version": "3.10.11"
  }
 },
 "nbformat": 4,
 "nbformat_minor": 5
}
