{
 "cells": [
  {
   "cell_type": "code",
   "execution_count": 1,
   "id": "728baeaf",
   "metadata": {},
   "outputs": [],
   "source": [
    "import pandas as pd\n"
   ]
  },
  {
   "cell_type": "code",
   "execution_count": 2,
   "id": "1b54a374",
   "metadata": {},
   "outputs": [],
   "source": [
    "retail = pd.read_csv(r\"C:\\Users\\Hasini\\Downloads\\us_customer_data_.csv\")\n",
    "                    "
   ]
  },
  {
   "cell_type": "code",
   "execution_count": 3,
   "id": "2eca8946",
   "metadata": {},
   "outputs": [
    {
     "name": "stdout",
     "output_type": "stream",
     "text": [
      "<class 'pandas.core.frame.DataFrame'>\n",
      "RangeIndex: 1000 entries, 0 to 999\n",
      "Data columns (total 7 columns):\n",
      " #   Column             Non-Null Count  Dtype \n",
      "---  ------             --------------  ----- \n",
      " 0   customer_id        1000 non-null   int64 \n",
      " 1   name               1000 non-null   object\n",
      " 2   email              950 non-null    object\n",
      " 3   phone              984 non-null    object\n",
      " 4   address            1000 non-null   object\n",
      " 5   registration_date  1000 non-null   object\n",
      " 6   loyalty_status     1000 non-null   object\n",
      "dtypes: int64(1), object(6)\n",
      "memory usage: 54.8+ KB\n"
     ]
    }
   ],
   "source": [
    "retail.info()"
   ]
  },
  {
   "cell_type": "code",
   "execution_count": 4,
   "id": "506bd538",
   "metadata": {},
   "outputs": [
    {
     "data": {
      "text/plain": [
       "customer_id           0\n",
       "name                  0\n",
       "email                50\n",
       "phone                16\n",
       "address               0\n",
       "registration_date     0\n",
       "loyalty_status        0\n",
       "dtype: int64"
      ]
     },
     "execution_count": 4,
     "metadata": {},
     "output_type": "execute_result"
    }
   ],
   "source": [
    "retail.isnull().sum()"
   ]
  },
  {
   "cell_type": "code",
   "execution_count": 5,
   "id": "e728e852",
   "metadata": {},
   "outputs": [
    {
     "data": {
      "text/plain": [
       "1000"
      ]
     },
     "execution_count": 5,
     "metadata": {},
     "output_type": "execute_result"
    }
   ],
   "source": [
    "retail[\"customer_id\"].nunique()"
   ]
  },
  {
   "cell_type": "code",
   "execution_count": 6,
   "id": "37681cbe",
   "metadata": {},
   "outputs": [],
   "source": [
    "retail = retail.drop_duplicates(subset='customer_id', keep='first')\n"
   ]
  },
  {
   "cell_type": "code",
   "execution_count": 7,
   "id": "7b06e3ec",
   "metadata": {},
   "outputs": [
    {
     "data": {
      "text/plain": [
       "customer_id           0\n",
       "name                  0\n",
       "email                50\n",
       "phone                16\n",
       "address               0\n",
       "registration_date     0\n",
       "loyalty_status        0\n",
       "dtype: int64"
      ]
     },
     "execution_count": 7,
     "metadata": {},
     "output_type": "execute_result"
    }
   ],
   "source": [
    "\n",
    "retail.isnull().sum()"
   ]
  },
  {
   "cell_type": "code",
   "execution_count": 8,
   "id": "9c78ed18",
   "metadata": {},
   "outputs": [
    {
     "name": "stdout",
     "output_type": "stream",
     "text": [
      "<class 'pandas.core.frame.DataFrame'>\n",
      "RangeIndex: 1000 entries, 0 to 999\n",
      "Data columns (total 7 columns):\n",
      " #   Column             Non-Null Count  Dtype \n",
      "---  ------             --------------  ----- \n",
      " 0   customer_id        1000 non-null   int64 \n",
      " 1   name               1000 non-null   object\n",
      " 2   email              950 non-null    object\n",
      " 3   phone              984 non-null    object\n",
      " 4   address            1000 non-null   object\n",
      " 5   registration_date  1000 non-null   object\n",
      " 6   loyalty_status     1000 non-null   object\n",
      "dtypes: int64(1), object(6)\n",
      "memory usage: 54.8+ KB\n"
     ]
    }
   ],
   "source": [
    "retail.info()"
   ]
  },
  {
   "cell_type": "code",
   "execution_count": 9,
   "id": "6e77b950",
   "metadata": {},
   "outputs": [],
   "source": [
    "retail['name'] = retail['name'].str.strip().str.title()\n"
   ]
  },
  {
   "cell_type": "code",
   "execution_count": 10,
   "id": "e7d1af04",
   "metadata": {},
   "outputs": [
    {
     "name": "stdout",
     "output_type": "stream",
     "text": [
      "<class 'pandas.core.frame.DataFrame'>\n",
      "RangeIndex: 1000 entries, 0 to 999\n",
      "Data columns (total 7 columns):\n",
      " #   Column             Non-Null Count  Dtype \n",
      "---  ------             --------------  ----- \n",
      " 0   customer_id        1000 non-null   int64 \n",
      " 1   name               1000 non-null   object\n",
      " 2   email              950 non-null    object\n",
      " 3   phone              984 non-null    object\n",
      " 4   address            1000 non-null   object\n",
      " 5   registration_date  1000 non-null   object\n",
      " 6   loyalty_status     1000 non-null   object\n",
      "dtypes: int64(1), object(6)\n",
      "memory usage: 54.8+ KB\n"
     ]
    }
   ],
   "source": [
    "retail.info()"
   ]
  },
  {
   "cell_type": "code",
   "execution_count": 11,
   "id": "5885fe41",
   "metadata": {},
   "outputs": [
    {
     "name": "stdout",
     "output_type": "stream",
     "text": [
      "<class 'pandas.core.frame.DataFrame'>\n",
      "RangeIndex: 1000 entries, 0 to 999\n",
      "Data columns (total 7 columns):\n",
      " #   Column             Non-Null Count  Dtype \n",
      "---  ------             --------------  ----- \n",
      " 0   customer_id        1000 non-null   int64 \n",
      " 1   name               1000 non-null   object\n",
      " 2   email              950 non-null    object\n",
      " 3   phone              984 non-null    object\n",
      " 4   address            1000 non-null   object\n",
      " 5   registration_date  1000 non-null   object\n",
      " 6   loyalty_status     1000 non-null   object\n",
      "dtypes: int64(1), object(6)\n",
      "memory usage: 54.8+ KB\n"
     ]
    }
   ],
   "source": [
    "retail.info()"
   ]
  },
  {
   "cell_type": "code",
   "execution_count": 12,
   "id": "d2b5744b",
   "metadata": {},
   "outputs": [],
   "source": [
    "retail['email'] = retail.apply(\n",
    "    lambda row: f\"{row['name'].replace(' ', '').lower()}@company.com\" \n",
    "    if pd.isna(row['email']) \n",
    "    else row['email'].strip().lower(),\n",
    "    axis=1\n",
    ")\n"
   ]
  },
  {
   "cell_type": "code",
   "execution_count": 13,
   "id": "f5927355",
   "metadata": {},
   "outputs": [
    {
     "name": "stdout",
     "output_type": "stream",
     "text": [
      "<class 'pandas.core.frame.DataFrame'>\n",
      "RangeIndex: 1000 entries, 0 to 999\n",
      "Data columns (total 7 columns):\n",
      " #   Column             Non-Null Count  Dtype \n",
      "---  ------             --------------  ----- \n",
      " 0   customer_id        1000 non-null   int64 \n",
      " 1   name               1000 non-null   object\n",
      " 2   email              1000 non-null   object\n",
      " 3   phone              984 non-null    object\n",
      " 4   address            1000 non-null   object\n",
      " 5   registration_date  1000 non-null   object\n",
      " 6   loyalty_status     1000 non-null   object\n",
      "dtypes: int64(1), object(6)\n",
      "memory usage: 54.8+ KB\n"
     ]
    }
   ],
   "source": [
    "retail.info()"
   ]
  },
  {
   "cell_type": "code",
   "execution_count": 14,
   "id": "7519bd3d",
   "metadata": {},
   "outputs": [
    {
     "data": {
      "text/plain": [
       "customer_id           0\n",
       "name                  0\n",
       "email                 0\n",
       "phone                16\n",
       "address               0\n",
       "registration_date     0\n",
       "loyalty_status        0\n",
       "dtype: int64"
      ]
     },
     "execution_count": 14,
     "metadata": {},
     "output_type": "execute_result"
    }
   ],
   "source": [
    "retail.isnull().sum()"
   ]
  },
  {
   "cell_type": "code",
   "execution_count": 15,
   "id": "843076f0",
   "metadata": {},
   "outputs": [],
   "source": [
    "import random\n",
    "def random_phone():\n",
    "    return str(random.randint(1000000000, 9999999999))\n",
    "\n",
    "retail['phone'] = retail['phone'].astype(str).str.replace(r'[^\\d]', '', regex=True)\n",
    "retail['phone'] = retail['phone'].apply(lambda x: x if len(x) == 10 else random_phone())\n"
   ]
  },
  {
   "cell_type": "code",
   "execution_count": 16,
   "id": "443ae88d",
   "metadata": {},
   "outputs": [
    {
     "name": "stdout",
     "output_type": "stream",
     "text": [
      "<class 'pandas.core.frame.DataFrame'>\n",
      "RangeIndex: 1000 entries, 0 to 999\n",
      "Data columns (total 7 columns):\n",
      " #   Column             Non-Null Count  Dtype \n",
      "---  ------             --------------  ----- \n",
      " 0   customer_id        1000 non-null   int64 \n",
      " 1   name               1000 non-null   object\n",
      " 2   email              1000 non-null   object\n",
      " 3   phone              1000 non-null   object\n",
      " 4   address            1000 non-null   object\n",
      " 5   registration_date  1000 non-null   object\n",
      " 6   loyalty_status     1000 non-null   object\n",
      "dtypes: int64(1), object(6)\n",
      "memory usage: 54.8+ KB\n"
     ]
    }
   ],
   "source": [
    "retail.info()"
   ]
  },
  {
   "cell_type": "code",
   "execution_count": 17,
   "id": "d48b377c",
   "metadata": {},
   "outputs": [
    {
     "data": {
      "text/plain": [
       "customer_id          0\n",
       "name                 0\n",
       "email                0\n",
       "phone                0\n",
       "address              0\n",
       "registration_date    0\n",
       "loyalty_status       0\n",
       "dtype: int64"
      ]
     },
     "execution_count": 17,
     "metadata": {},
     "output_type": "execute_result"
    }
   ],
   "source": [
    "retail.isnull().sum()"
   ]
  },
  {
   "cell_type": "code",
   "execution_count": 18,
   "id": "7304cabb",
   "metadata": {},
   "outputs": [
    {
     "name": "stdout",
     "output_type": "stream",
     "text": [
      "<class 'pandas.core.frame.DataFrame'>\n",
      "RangeIndex: 1000 entries, 0 to 999\n",
      "Data columns (total 7 columns):\n",
      " #   Column             Non-Null Count  Dtype \n",
      "---  ------             --------------  ----- \n",
      " 0   customer_id        1000 non-null   int64 \n",
      " 1   name               1000 non-null   object\n",
      " 2   email              1000 non-null   object\n",
      " 3   phone              1000 non-null   object\n",
      " 4   address            1000 non-null   object\n",
      " 5   registration_date  1000 non-null   object\n",
      " 6   loyalty_status     1000 non-null   object\n",
      "dtypes: int64(1), object(6)\n",
      "memory usage: 54.8+ KB\n"
     ]
    }
   ],
   "source": [
    "retail.info()"
   ]
  },
  {
   "cell_type": "code",
   "execution_count": 19,
   "id": "3700e16f",
   "metadata": {},
   "outputs": [],
   "source": [
    "retail.to_csv(\"clean_data.csv\", index=False)"
   ]
  }
 ],
 "metadata": {
  "kernelspec": {
   "display_name": "myenv",
   "language": "python",
   "name": "python3"
  },
  "language_info": {
   "codemirror_mode": {
    "name": "ipython",
    "version": 3
   },
   "file_extension": ".py",
   "mimetype": "text/x-python",
   "name": "python",
   "nbconvert_exporter": "python",
   "pygments_lexer": "ipython3",
   "version": "3.10.11"
  }
 },
 "nbformat": 4,
 "nbformat_minor": 5
}
